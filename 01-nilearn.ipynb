{
 "cells": [
  {
   "cell_type": "markdown",
   "metadata": {},
   "source": [
    "# Nilearn tutorial 1"
   ]
  },
  {
   "cell_type": "markdown",
   "metadata": {},
   "source": [
    "## 1. Initialization and preparing the data"
   ]
  },
  {
   "cell_type": "code",
   "execution_count": 1,
   "metadata": {},
   "outputs": [],
   "source": [
    "import nilearn\n",
    "import nibabel as nib\n",
    "import numpy as np\n",
    "import matplotlib.pyplot as plt"
   ]
  },
  {
   "cell_type": "code",
   "execution_count": 2,
   "metadata": {},
   "outputs": [],
   "source": [
    "%matplotlib inline \n",
    "import seaborn"
   ]
  },
  {
   "cell_type": "markdown",
   "metadata": {},
   "source": [
    "### load() and get_data() using nibabel"
   ]
  },
  {
   "cell_type": "code",
   "execution_count": 3,
   "metadata": {},
   "outputs": [],
   "source": [
    "haxby_ds1 = nib.load('/home/farahana/Documents/dataset/Haxby2001/subj1/bold.nii')\n",
    "haxby_maskvt_ds1 = nib.load('/home/farahana/Documents/dataset/Haxby2001/subj1/mask4_vt.nii')"
   ]
  },
  {
   "cell_type": "markdown",
   "metadata": {},
   "source": [
    "### using niftimasker to mask the maskvt into sub1 bold.nii"
   ]
  },
  {
   "cell_type": "code",
   "execution_count": 4,
   "metadata": {},
   "outputs": [],
   "source": [
    "from nilearn.input_data import NiftiMasker\n",
    "haxby_maskvt_ds1_mask = NiftiMasker(haxby_maskvt_ds1)\n",
    "haxby_maskedvt_ds1 = haxby_maskvt_ds1_mask.fit_transform(haxby_ds1)"
   ]
  },
  {
   "cell_type": "markdown",
   "metadata": {},
   "source": [
    "### get the label or target or stimuli from labels.txt using np.recfromcsv"
   ]
  },
  {
   "cell_type": "code",
   "execution_count": 5,
   "metadata": {},
   "outputs": [],
   "source": [
    "haxby_label1 = np.recfromcsv('/home/farahana/Documents/dataset/Haxby2001/subj1/labels.txt', delimiter=' ')"
   ]
  },
  {
   "cell_type": "code",
   "execution_count": 6,
   "metadata": {},
   "outputs": [],
   "source": [
    "# separate the chunks and label\n",
    "haxby_label1_label = haxby_label1['labels']\n",
    "haxby_label1_chunks = haxby_label1['chunks']"
   ]
  },
  {
   "cell_type": "markdown",
   "metadata": {},
   "source": [
    "### print the labels, shape of after niftimasker, shape of the labels"
   ]
  },
  {
   "cell_type": "code",
   "execution_count": 7,
   "metadata": {},
   "outputs": [
    {
     "name": "stdout",
     "output_type": "stream",
     "text": [
      "[b'rest' b'rest' b'rest' ..., b'rest' b'rest' b'rest']\n",
      "(1452, 577)\n",
      "(1452,)\n"
     ]
    }
   ],
   "source": [
    "print (haxby_label1_label)\n",
    "print (haxby_maskedvt_ds1.shape)\n",
    "print (haxby_label1_label.shape)"
   ]
  },
  {
   "cell_type": "markdown",
   "metadata": {},
   "source": [
    "## 2. Building the simple Support vector Classification (SVC)"
   ]
  },
  {
   "cell_type": "code",
   "execution_count": 83,
   "metadata": {},
   "outputs": [],
   "source": [
    "### cross validation\n",
    "from sklearn.cross_validation import cross_val_score, KFold\n",
    "cv = KFold(n=len(haxby_maskedvt_ds1), n_folds=10)"
   ]
  },
  {
   "cell_type": "code",
   "execution_count": 62,
   "metadata": {},
   "outputs": [
    {
     "data": {
      "text/plain": [
       "SVC(C=1.0, cache_size=200, class_weight=None, coef0=0.0,\n",
       "  decision_function_shape=None, degree=3, gamma='auto', kernel='linear',\n",
       "  max_iter=-1, probability=False, random_state=None, shrinking=True,\n",
       "  tol=0.001, verbose=False)"
      ]
     },
     "execution_count": 62,
     "metadata": {},
     "output_type": "execute_result"
    }
   ],
   "source": [
    "from sklearn.svm import SVC\n",
    "svc_classifier = SVC(kernel='linear')\n",
    "svc_classifier.fit(haxby_maskedvt_ds1, haxby_label1_label)"
   ]
  },
  {
   "cell_type": "code",
   "execution_count": 63,
   "metadata": {},
   "outputs": [
    {
     "name": "stdout",
     "output_type": "stream",
     "text": [
      "0.726594237128\n"
     ]
    }
   ],
   "source": [
    "cv_score_SVC = cross_val_score(svc_classifier, haxby_maskedvt_ds1, haxby_label1_label, cv=cv)\n",
    "print (np.mean(cv_score_SVC))"
   ]
  },
  {
   "cell_type": "code",
   "execution_count": 84,
   "metadata": {},
   "outputs": [],
   "source": [
    "### train and test splitting\n",
    "from sklearn.cross_validation import train_test_split\n",
    "haxby_bold1_train, haxby_bold1_test, haxby_label1_train, haxby_label1_test = train_test_split(haxby_maskedvt_ds1, haxby_label1_label, random_state = 30)"
   ]
  },
  {
   "cell_type": "code",
   "execution_count": 65,
   "metadata": {},
   "outputs": [
    {
     "data": {
      "text/plain": [
       "SVC(C=1.0, cache_size=200, class_weight=None, coef0=0.0,\n",
       "  decision_function_shape=None, degree=3, gamma='auto', kernel='linear',\n",
       "  max_iter=-1, probability=False, random_state=None, shrinking=True,\n",
       "  tol=0.001, verbose=False)"
      ]
     },
     "execution_count": 65,
     "metadata": {},
     "output_type": "execute_result"
    }
   ],
   "source": [
    "svc_classifier2 = SVC(kernel='linear')\n",
    "svc_classifier2.fit(haxby_bold1_train, haxby_label1_train)"
   ]
  },
  {
   "cell_type": "code",
   "execution_count": 66,
   "metadata": {},
   "outputs": [
    {
     "name": "stdout",
     "output_type": "stream",
     "text": [
      "0.922865013774\n"
     ]
    }
   ],
   "source": [
    "ts_score_SVC = svc_classifier2.score(haxby_bold1_test, haxby_label1_test)\n",
    "print(np.mean(ts_score_SVC))"
   ]
  },
  {
   "cell_type": "markdown",
   "metadata": {},
   "source": [
    "## 3. Naive Bayes"
   ]
  },
  {
   "cell_type": "code",
   "execution_count": 112,
   "metadata": {},
   "outputs": [],
   "source": [
    "# Gaussian Naive Bayes\n",
    "from sklearn.naive_bayes import GaussianNB\n",
    "gnb_classifier = GaussianNB()"
   ]
  },
  {
   "cell_type": "code",
   "execution_count": 113,
   "metadata": {},
   "outputs": [
    {
     "name": "stdout",
     "output_type": "stream",
     "text": [
      "0.361790269249\n"
     ]
    }
   ],
   "source": [
    "gnb1 = gnb_classifier.fit(haxby_maskedvt_ds1, haxby_label1_label)\n",
    "cv_score_gnb = cross_val_score(gnb1, haxby_maskedvt_ds1, haxby_label1_label, cv=cv)\n",
    "print (np.mean(cv_score_gnb))"
   ]
  },
  {
   "cell_type": "code",
   "execution_count": 74,
   "metadata": {},
   "outputs": [
    {
     "name": "stdout",
     "output_type": "stream",
     "text": [
      "0.523415977961\n"
     ]
    }
   ],
   "source": [
    "gnb2 = gnb_classifier.fit(haxby_bold1_train, haxby_label1_train)\n",
    "ts_score_gnb = gnb2.score(haxby_bold1_test, haxby_label1_test) \n",
    "print(ts_score_gnb)"
   ]
  },
  {
   "cell_type": "code",
   "execution_count": 75,
   "metadata": {},
   "outputs": [],
   "source": [
    "# Multinomial Naive Bayes\n",
    "from sklearn.naive_bayes import MultinomialNB\n",
    "mnb_classifier = MultinomialNB()"
   ]
  },
  {
   "cell_type": "code",
   "execution_count": 78,
   "metadata": {},
   "outputs": [
    {
     "name": "stdout",
     "output_type": "stream",
     "text": [
      "0.150845536136\n"
     ]
    }
   ],
   "source": [
    "mnb1 = mnb_classifier.fit(haxby_maskedvt_ds1, haxby_label1_label)\n",
    "cv_score_mnb = cross_val_score(mnb1, haxby_maskedvt_ds1, haxby_label1_label, cv=cv)\n",
    "print (np.mean(cv_score_mnb))"
   ]
  },
  {
   "cell_type": "code",
   "execution_count": 79,
   "metadata": {},
   "outputs": [
    {
     "name": "stdout",
     "output_type": "stream",
     "text": [
      "0.258953168044\n"
     ]
    }
   ],
   "source": [
    "mnb2 = mnb_classifier.fit(haxby_bold1_train, haxby_label1_train)\n",
    "ts_score_mnb = mnb2.score(haxby_bold1_test, haxby_label1_test)\n",
    "print(ts_score_mnb)"
   ]
  },
  {
   "cell_type": "markdown",
   "metadata": {},
   "source": [
    "## 4. nearest neighbors"
   ]
  },
  {
   "cell_type": "code",
   "execution_count": 86,
   "metadata": {},
   "outputs": [],
   "source": [
    "# K-nearest neighbors (k=5)\n",
    "from sklearn.neighbors import KNeighborsClassifier\n",
    "knn_classifier = KNeighborsClassifier()"
   ]
  },
  {
   "cell_type": "code",
   "execution_count": 87,
   "metadata": {},
   "outputs": [
    {
     "name": "stdout",
     "output_type": "stream",
     "text": [
      "0.368436466698\n"
     ]
    }
   ],
   "source": [
    "knn1 = knn_classifier.fit(haxby_maskedvt_ds1, haxby_label1_label)\n",
    "cv_score_knn = cross_val_score(knn1, haxby_maskedvt_ds1, haxby_label1_label, cv=cv)\n",
    "print (np.mean(cv_score_knn))"
   ]
  },
  {
   "cell_type": "code",
   "execution_count": 89,
   "metadata": {},
   "outputs": [
    {
     "name": "stdout",
     "output_type": "stream",
     "text": [
      "0.801652892562\n"
     ]
    }
   ],
   "source": [
    "knn2 = knn_classifier.fit(haxby_bold1_train, haxby_label1_train)\n",
    "ts_score_knn = knn2.score(haxby_bold1_test, haxby_label1_test) \n",
    "print(ts_score_knn)"
   ]
  },
  {
   "cell_type": "markdown",
   "metadata": {},
   "source": [
    "## 5. Decision Tree"
   ]
  },
  {
   "cell_type": "code",
   "execution_count": 91,
   "metadata": {},
   "outputs": [],
   "source": [
    "from sklearn.tree import DecisionTreeClassifier\n",
    "dt_classifier = DecisionTreeClassifier()"
   ]
  },
  {
   "cell_type": "code",
   "execution_count": 92,
   "metadata": {},
   "outputs": [
    {
     "name": "stdout",
     "output_type": "stream",
     "text": [
      "0.399400094473\n"
     ]
    }
   ],
   "source": [
    "dt1 = dt_classifier.fit(haxby_maskedvt_ds1, haxby_label1_label)\n",
    "cv_score_dt = cross_val_score(dt1, haxby_maskedvt_ds1, haxby_label1_label, cv=cv)\n",
    "print (np.mean(cv_score_dt))"
   ]
  },
  {
   "cell_type": "code",
   "execution_count": 93,
   "metadata": {},
   "outputs": [
    {
     "name": "stdout",
     "output_type": "stream",
     "text": [
      "0.523415977961\n"
     ]
    }
   ],
   "source": [
    "dt2 = dt_classifier.fit(haxby_bold1_train, haxby_label1_train)\n",
    "ts_score_dt = dt2.score(haxby_bold1_test, haxby_label1_test) \n",
    "print(ts_score_dt)"
   ]
  },
  {
   "cell_type": "markdown",
   "metadata": {},
   "source": [
    "## 6. Ensemble Methods"
   ]
  },
  {
   "cell_type": "code",
   "execution_count": 94,
   "metadata": {},
   "outputs": [],
   "source": [
    "# Bagging meta-estimator\n",
    "from sklearn.ensemble import BaggingClassifier\n",
    "bag_classifier = BaggingClassifier(knn_classifier)"
   ]
  },
  {
   "cell_type": "code",
   "execution_count": 95,
   "metadata": {},
   "outputs": [
    {
     "name": "stdout",
     "output_type": "stream",
     "text": [
      "0.379442607463\n"
     ]
    }
   ],
   "source": [
    "bag1 = bag_classifier.fit(haxby_maskedvt_ds1, haxby_label1_label)\n",
    "cv_score_bg = cross_val_score(bag1, haxby_maskedvt_ds1, haxby_label1_label, cv=cv)\n",
    "print (np.mean(cv_score_bg))"
   ]
  },
  {
   "cell_type": "code",
   "execution_count": 96,
   "metadata": {},
   "outputs": [
    {
     "name": "stdout",
     "output_type": "stream",
     "text": [
      "0.848484848485\n"
     ]
    }
   ],
   "source": [
    "bag2 = bag_classifier.fit(haxby_bold1_train, haxby_label1_train)\n",
    "ts_score_bg = bag2.score(haxby_bold1_test, haxby_label1_test) \n",
    "print(ts_score_bg)"
   ]
  },
  {
   "cell_type": "markdown",
   "metadata": {},
   "source": [
    "# Plotting the result"
   ]
  },
  {
   "cell_type": "code",
   "execution_count": 101,
   "metadata": {},
   "outputs": [
    {
     "data": {
      "text/plain": [
       "<matplotlib.text.Text at 0x7f74926cee48>"
      ]
     },
     "execution_count": 101,
     "metadata": {},
     "output_type": "execute_result"
    },
    {
     "data": {
      "image/png": "[encoded data removed]",
      "text/plain": [
       "<matplotlib.figure.Figure at 0x7f74927261d0>"
      ]
     },
     "metadata": {},
     "output_type": "display_data"
    }
   ],
   "source": [
    "plt.figure(figsize=(6, 6))\n",
    "plt.boxplot([cv_score_SVC, cv_score_bg, cv_score_dt, cv_score_gnb])\n",
    "plt.xticks([1,2,3,4], ['SVC', 'bg', 'dt', 'gnb'])\n",
    "plt.title('Prediction: cross validation accuracy')"
   ]
  },
  {
   "cell_type": "code",
   "execution_count": 110,
   "metadata": {},
   "outputs": [
    {
     "data": {
      "text/plain": [
       "<matplotlib.text.Text at 0x7f749220e128>"
      ]
     },
     "execution_count": 110,
     "metadata": {},
     "output_type": "execute_result"
    },
    {
     "data": {
      "image/png": "[encoded data removed]",
      "text/plain": [
       "<matplotlib.figure.Figure at 0x7f749229bac8>"
      ]
     },
     "metadata": {},
     "output_type": "display_data"
    }
   ],
   "source": [
    "plt.figure(figsize=(6, 6))\n",
    "plt.plot([ts_score_SVC, ts_score_bg, ts_score_dt, ts_score_gnb], marker='o')\n",
    "#plt.xticks([1,2,3,4], ['SVC', 'bg', 'dt', 'gnb'])\n",
    "plt.title('Prediction: train_test_split accuracy')"
   ]
  },
  {
   "cell_type": "code",
   "execution_count": null,
   "metadata": {},
   "outputs": [],
   "source": []
  },
  {
   "cell_type": "code",
   "execution_count": null,
   "metadata": {},
   "outputs": [],
   "source": []
  }
 ],
 "metadata": {
  "kernelspec": {
   "display_name": "",
   "name": ""
  },
  "language_info": {
   "codemirror_mode": {
    "name": "ipython",
    "version": 3
   },
   "file_extension": ".py",
   "mimetype": "text/x-python",
   "name": "python",
   "nbconvert_exporter": "python",
   "pygments_lexer": "ipython3",
   "version": "3.5.2"
  }
 },
 "nbformat": 4,
 "nbformat_minor": 0
}
