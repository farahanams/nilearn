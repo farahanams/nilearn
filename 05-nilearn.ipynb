{
 "cells": [
  {
   "cell_type": "markdown",
   "metadata": {},
   "source": [
    "# Nilearn Tutorial 5\n",
    "With DS109 dataset taken from openfmri.org --- False-belief experiment"
   ]
  },
  {
   "cell_type": "code",
   "execution_count": 1,
   "metadata": {},
   "outputs": [],
   "source": [
    "%matplotlib inline \n",
    "import seaborn\n",
    "import nibabel as nib\n",
    "import nilearn\n",
    "import numpy as np\n",
    "import matplotlib.pyplot as plt"
   ]
  },
  {
   "cell_type": "code",
   "execution_count": 2,
   "metadata": {},
   "outputs": [
    {
     "name": "stdout",
     "output_type": "stream",
     "text": [
      "(72, 72, 36, 179)\n",
      "(179, 6)\n"
     ]
    }
   ],
   "source": [
    "fb_sub2run1 = nib.load('/home/farahana/Documents/dataset/Multi Subject/ds109/sub002/BOLD/task001_run001/bold.nii')\n",
    "print (fb_sub2run1.shape)\n",
    "\n",
    "fb_sub2run1_label = np.genfromtxt('/home/farahana/Documents/dataset/Multi Subject/ds109/sub002/behav/task001_run001/behavdata.txt', skip_header=1)\n",
    "print (fb_sub2run1_label.shape)"
   ]
  },
  {
   "cell_type": "code",
   "execution_count": 3,
   "metadata": {},
   "outputs": [],
   "source": [
    "# take StoryCode in behavdata.txt as labels or targets for fMRI dataset\n",
    "fb_sub2run1_labels = fb_sub2run1_label[:,2]"
   ]
  },
  {
   "cell_type": "code",
   "execution_count": 4,
   "metadata": {},
   "outputs": [
    {
     "name": "stdout",
     "output_type": "stream",
     "text": [
      "(179, 37551)\n"
     ]
    }
   ],
   "source": [
    "from nilearn.input_data import NiftiMasker\n",
    "masker = NiftiMasker(memory='nilearn_cache', mask_strategy='epi')\n",
    "masker.fit(fb_sub2run1)\n",
    "fb_s2r1_fmri = masker.transform(fb_sub2run1)\n",
    "print (fb_s2r1_fmri.shape)"
   ]
  },
  {
   "cell_type": "markdown",
   "metadata": {},
   "source": [
    "## Data Preparation"
   ]
  },
  {
   "cell_type": "code",
   "execution_count": 5,
   "metadata": {},
   "outputs": [],
   "source": [
    "### Cross validation\n",
    "from sklearn.cross_validation import cross_val_score, KFold\n",
    "cv = KFold(n=len(fb_s2r1_fmri), n_folds=10)"
   ]
  },
  {
   "cell_type": "code",
   "execution_count": 6,
   "metadata": {},
   "outputs": [],
   "source": [
    "### Train_test Splitting\n",
    "from sklearn.cross_validation import train_test_split\n",
    "fb_s2r1_fmri_train, fb_s2r1_fmri_test, fb_s2r1_label_train, fb_s2r1_label_test = train_test_split(fb_s2r1_fmri,fb_sub2run1_labels, random_state = 30)"
   ]
  },
  {
   "cell_type": "markdown",
   "metadata": {},
   "source": [
    "## 1. SVC"
   ]
  },
  {
   "cell_type": "code",
   "execution_count": 7,
   "metadata": {},
   "outputs": [],
   "source": [
    "from sklearn.svm import SVC\n",
    "svc_classifier = SVC(kernel='linear')"
   ]
  },
  {
   "cell_type": "code",
   "execution_count": 9,
   "metadata": {},
   "outputs": [
    {
     "name": "stdout",
     "output_type": "stream",
     "text": [
      "0.430065359477\n"
     ]
    }
   ],
   "source": [
    "svc1 = svc_classifier.fit(fb_s2r1_fmri, fb_sub2run1_labels)\n",
    "cv_score_svc = cross_val_score(svc1, fb_s2r1_fmri, fb_sub2run1_labels, cv=cv)\n",
    "print (np.mean(cv_score_svc))"
   ]
  },
  {
   "cell_type": "code",
   "execution_count": 10,
   "metadata": {},
   "outputs": [
    {
     "name": "stdout",
     "output_type": "stream",
     "text": [
      "0.555555555556\n"
     ]
    }
   ],
   "source": [
    "svc2 = svc_classifier.fit(fb_s2r1_fmri_train, fb_s2r1_label_train)\n",
    "ts_score_svc = svc2.score(fb_s2r1_fmri_test, fb_s2r1_label_test)\n",
    "print(ts_score_svc)"
   ]
  },
  {
   "cell_type": "markdown",
   "metadata": {},
   "source": [
    "## 2. Naive Bayes"
   ]
  },
  {
   "cell_type": "code",
   "execution_count": 11,
   "metadata": {},
   "outputs": [],
   "source": [
    "# Gaussian Naive Bayes\n",
    "from sklearn.naive_bayes import GaussianNB\n",
    "gnb_classifier = GaussianNB()"
   ]
  },
  {
   "cell_type": "code",
   "execution_count": 12,
   "metadata": {},
   "outputs": [
    {
     "name": "stdout",
     "output_type": "stream",
     "text": [
      "0.314052287582\n"
     ]
    }
   ],
   "source": [
    "gnb1 = gnb_classifier.fit(fb_s2r1_fmri, fb_sub2run1_labels)\n",
    "cv_score_gnb = cross_val_score(gnb1, fb_s2r1_fmri, fb_sub2run1_labels, cv=cv)\n",
    "print (np.mean(cv_score_gnb))"
   ]
  },
  {
   "cell_type": "code",
   "execution_count": 13,
   "metadata": {},
   "outputs": [
    {
     "name": "stdout",
     "output_type": "stream",
     "text": [
      "0.466666666667\n"
     ]
    }
   ],
   "source": [
    "gnb2 = gnb_classifier.fit(fb_s2r1_fmri_train, fb_s2r1_label_train)\n",
    "ts_score_gnb = gnb2.score(fb_s2r1_fmri_test, fb_s2r1_label_test)\n",
    "print(ts_score_gnb)"
   ]
  },
  {
   "cell_type": "code",
   "execution_count": 14,
   "metadata": {},
   "outputs": [],
   "source": [
    "# Multinomial Naive Bayes\n",
    "from sklearn.naive_bayes import MultinomialNB\n",
    "mnb_classifier = MultinomialNB()"
   ]
  },
  {
   "cell_type": "code",
   "execution_count": 15,
   "metadata": {},
   "outputs": [
    {
     "name": "stdout",
     "output_type": "stream",
     "text": [
      "0.0611111111111\n"
     ]
    }
   ],
   "source": [
    "mnb1 = mnb_classifier.fit(fb_s2r1_fmri, fb_sub2run1_labels)\n",
    "cv_score_mnb = cross_val_score(mnb1, fb_s2r1_fmri, fb_sub2run1_labels, cv=cv)\n",
    "print (np.mean(cv_score_mnb))"
   ]
  },
  {
   "cell_type": "code",
   "execution_count": 16,
   "metadata": {},
   "outputs": [
    {
     "name": "stdout",
     "output_type": "stream",
     "text": [
      "0.377777777778\n"
     ]
    }
   ],
   "source": [
    "mnb2 = mnb_classifier.fit(fb_s2r1_fmri_train, fb_s2r1_label_train)\n",
    "ts_score_mnb = mnb2.score(fb_s2r1_fmri_test, fb_s2r1_label_test)\n",
    "print(ts_score_mnb)"
   ]
  },
  {
   "cell_type": "markdown",
   "metadata": {},
   "source": [
    "## 3. KNN"
   ]
  },
  {
   "cell_type": "code",
   "execution_count": 17,
   "metadata": {},
   "outputs": [],
   "source": [
    "# K-nearest neighbors (k=5)\n",
    "from sklearn.neighbors import KNeighborsClassifier\n",
    "knn_classifier = KNeighborsClassifier()"
   ]
  },
  {
   "cell_type": "code",
   "execution_count": 18,
   "metadata": {},
   "outputs": [
    {
     "name": "stdout",
     "output_type": "stream",
     "text": [
      "0.340522875817\n"
     ]
    }
   ],
   "source": [
    "knn1 = knn_classifier.fit(fb_s2r1_fmri, fb_sub2run1_labels)\n",
    "cv_score_knn = cross_val_score(knn1, fb_s2r1_fmri, fb_sub2run1_labels, cv=cv)\n",
    "print (np.mean(cv_score_knn))"
   ]
  },
  {
   "cell_type": "code",
   "execution_count": 19,
   "metadata": {},
   "outputs": [
    {
     "name": "stdout",
     "output_type": "stream",
     "text": [
      "0.644444444444\n"
     ]
    }
   ],
   "source": [
    "knn2 = knn_classifier.fit(fb_s2r1_fmri_train, fb_s2r1_label_train)\n",
    "ts_score_knn = knn2.score(fb_s2r1_fmri_test, fb_s2r1_label_test)\n",
    "print(ts_score_knn)"
   ]
  },
  {
   "cell_type": "markdown",
   "metadata": {},
   "source": [
    "## 4. Decision Tree"
   ]
  },
  {
   "cell_type": "code",
   "execution_count": 20,
   "metadata": {},
   "outputs": [],
   "source": [
    "from sklearn.tree import DecisionTreeClassifier\n",
    "dt_classifier = DecisionTreeClassifier()"
   ]
  },
  {
   "cell_type": "code",
   "execution_count": 21,
   "metadata": {},
   "outputs": [
    {
     "name": "stdout",
     "output_type": "stream",
     "text": [
      "0.307189542484\n"
     ]
    }
   ],
   "source": [
    "dt1 = dt_classifier.fit(fb_s2r1_fmri, fb_sub2run1_labels)\n",
    "cv_score_dt = cross_val_score(dt1, fb_s2r1_fmri, fb_sub2run1_labels, cv=cv)\n",
    "print (np.mean(cv_score_dt))"
   ]
  },
  {
   "cell_type": "code",
   "execution_count": 22,
   "metadata": {},
   "outputs": [
    {
     "name": "stdout",
     "output_type": "stream",
     "text": [
      "0.222222222222\n"
     ]
    }
   ],
   "source": [
    "dt2 = dt_classifier.fit(fb_s2r1_fmri_train, fb_s2r1_label_train)\n",
    "ts_score_dt = dt2.score(fb_s2r1_fmri_test, fb_s2r1_label_test)\n",
    "print(ts_score_dt)"
   ]
  },
  {
   "cell_type": "markdown",
   "metadata": {},
   "source": [
    "## 5. Esemble Method"
   ]
  },
  {
   "cell_type": "code",
   "execution_count": 23,
   "metadata": {},
   "outputs": [],
   "source": [
    "# Bagging meta-estimator\n",
    "from sklearn.ensemble import BaggingClassifier\n",
    "bag_classifier = BaggingClassifier(knn_classifier)"
   ]
  },
  {
   "cell_type": "code",
   "execution_count": null,
   "metadata": {},
   "outputs": [],
   "source": [
    "dt1 = dt_classifier.fit(fb_s2r1_fmri, fb_sub2run1_labels)\n",
    "cv_score_dt = cross_val_score(dt1, fb_s2r1_fmri, fb_sub2run1_labels, cv=cv)\n",
    "print (np.mean(cv_score_dt))"
   ]
  }
 ],
 "metadata": {
  "kernelspec": {
   "display_name": "",
   "name": ""
  },
  "language_info": {
   "codemirror_mode": {
    "name": "ipython",
    "version": 3
   },
   "file_extension": ".py",
   "mimetype": "text/x-python",
   "name": "python",
   "nbconvert_exporter": "python",
   "pygments_lexer": "ipython3",
   "version": "3.5.2"
  }
 },
 "nbformat": 4,
 "nbformat_minor": 0
}
