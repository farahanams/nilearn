{
 "cells": [
  {
   "cell_type": "markdown",
   "metadata": {},
   "source": [
    "# Nilearn Tutorial 6\n",
    "multi-subject classification. For haxby dataset (n_subject=6)"
   ]
  },
  {
   "cell_type": "code",
   "execution_count": 1,
   "metadata": {
    "collapsed": true
   },
   "outputs": [],
   "source": [
    "%matplotlib inline \n",
    "import seaborn\n",
    "import nibabel as nib\n",
    "import nilearn\n",
    "import numpy as np\n",
    "import matplotlib.pyplot as plt"
   ]
  },
  {
   "cell_type": "code",
   "execution_count": 4,
   "metadata": {
    "collapsed": false
   },
   "outputs": [],
   "source": [
    "## Loading all bold data\n",
    "haxby_1 = nib.load('/home/farahana/Documents/dataset/Haxby2001/subj1/bold.nii')\n",
    "haxby_2 = nib.load('/home/farahana/Documents/dataset/Haxby2001/subj2/bold.nii')\n",
    "haxby_3 = nib.load('/home/farahana/Documents/dataset/Haxby2001/subj3/bold.nii')\n",
    "haxby_4 = nib.load('/home/farahana/Documents/dataset/Haxby2001/subj4/bold.nii')\n",
    "haxby_5 = nib.load('/home/farahana/Documents/dataset/Haxby2001/subj5/bold.nii')\n",
    "haxby_6 = nib.load('/home/farahana/Documents/dataset/Haxby2001/subj6/bold.nii')"
   ]
  },
  {
   "cell_type": "code",
   "execution_count": 5,
   "metadata": {
    "collapsed": false
   },
   "outputs": [],
   "source": [
    "## Loading all mask data\n",
    "haxby_maskvt1= nib.load('/home/farahana/Documents/dataset/Haxby2001/subj1/mask4_vt.nii')\n",
    "haxby_maskvt2= nib.load('/home/farahana/Documents/dataset/Haxby2001/subj2/mask4_vt.nii')\n",
    "haxby_maskvt3= nib.load('/home/farahana/Documents/dataset/Haxby2001/subj3/mask4_vt.nii')\n",
    "haxby_maskvt4= nib.load('/home/farahana/Documents/dataset/Haxby2001/subj4/mask4_vt.nii')\n",
    "haxby_maskvt5= nib.load('/home/farahana/Documents/dataset/Haxby2001/subj5/mask4_vt.nii')\n",
    "haxby_maskvt6= nib.load('/home/farahana/Documents/dataset/Haxby2001/subj6/mask4_vt.nii')"
   ]
  },
  {
   "cell_type": "code",
   "execution_count": 67,
   "metadata": {
    "collapsed": false
   },
   "outputs": [
    {
     "data": {
      "text/plain": [
       "(8712,)"
      ]
     },
     "execution_count": 67,
     "metadata": {},
     "output_type": "execute_result"
    }
   ],
   "source": [
    "## Loading all label data\n",
    "haxby_label_1 = np.genfromtxt('/home/farahana/Documents/dataset/Haxby2001/subj1/labels.txt', delimiter=' ', skip_header=1, dtype=None, usecols=0)\n",
    "haxby_label_2 = np.genfromtxt('/home/farahana/Documents/dataset/Haxby2001/subj2/labels.txt', delimiter=' ', skip_header=1, dtype=None, usecols=0)\n",
    "haxby_label_3 = np.genfromtxt('/home/farahana/Documents/dataset/Haxby2001/subj3/labels.txt', delimiter=' ', skip_header=1, dtype=None, usecols=0)\n",
    "haxby_label_4 = np.genfromtxt('/home/farahana/Documents/dataset/Haxby2001/subj4/labels.txt', delimiter=' ', skip_header=1, dtype=None, usecols=0)\n",
    "haxby_label_5 = np.genfromtxt('/home/farahana/Documents/dataset/Haxby2001/subj5/labels.txt', delimiter=' ', skip_header=1, dtype=None, usecols=0)\n",
    "haxby_label_6 = np.genfromtxt('/home/farahana/Documents/dataset/Haxby2001/subj6/labels.txt', delimiter=' ', skip_header=1, dtype=None, usecols=0)\n",
    "haxby_label = np.append(haxby_label_1,haxby_label_2)\n",
    "haxby_label = np.append(haxby_label, haxby_label_3)\n",
    "haxby_label = np.append(haxby_label, haxby_label_4)\n",
    "haxby_label = np.append(haxby_label, haxby_label_5)\n",
    "haxby_label = np.append(haxby_label, haxby_label_6)\n",
    "\n",
    "haxby_label.shape"
   ]
  },
  {
   "cell_type": "code",
   "execution_count": 23,
   "metadata": {
    "collapsed": false
   },
   "outputs": [],
   "source": [
    "from nilearn.input_data import NiftiMasker\n",
    "haxby_masker1 = NiftiMasker(haxby_maskvt1)\n",
    "haxby_masker2 = NiftiMasker(haxby_maskvt2)\n",
    "haxby_masker3 = NiftiMasker(haxby_maskvt3)\n",
    "haxby_masker4 = NiftiMasker(haxby_maskvt4)\n",
    "haxby_masker5 = NiftiMasker(haxby_maskvt5)\n",
    "haxby_masker6 = NiftiMasker(haxby_maskvt6)"
   ]
  },
  {
   "cell_type": "code",
   "execution_count": 32,
   "metadata": {
    "collapsed": false
   },
   "outputs": [],
   "source": [
    "haxby_fmri1 = haxby_masker1.fit_transform(haxby_1)\n",
    "haxby_fmri2 = haxby_masker2.fit_transform(haxby_2)\n",
    "haxby_fmri3 = haxby_masker3.fit_transform(haxby_3)\n",
    "haxby_fmri4 = haxby_masker4.fit_transform(haxby_4)\n",
    "haxby_fmri5 = haxby_masker5.fit_transform(haxby_5)\n",
    "haxby_fmri6 = haxby_masker6.fit_transform(haxby_6)"
   ]
  },
  {
   "cell_type": "code",
   "execution_count": 66,
   "metadata": {
    "collapsed": true
   },
   "outputs": [
    {
     "data": {
      "text/plain": [
       "(1452, 2793)"
      ]
     },
     "execution_count": 66,
     "metadata": {},
     "output_type": "execute_result"
    }
   ],
   "source": [
    "haxby_fmri = np.r_['-1', haxby_fmri1, haxby_fmri2]\n",
    "haxby_fmri = np.r_['-1', haxby_fmri, haxby_fmri3]\n",
    "haxby_fmri = np.r_['-1', haxby_fmri, haxby_fmri4]\n",
    "haxby_fmri = np.r_['-1', haxby_fmri, haxby_fmri5]\n",
    "haxby_fmri = np.r_['-1', haxby_fmri, haxby_fmri6]\n",
    "\n",
    "haxby_fmri.shape"
   ]
  },
  {
   "cell_type": "markdown",
   "metadata": {},
   "source": [
    "### Cross Validation all the subjects"
   ]
  },
  {
   "cell_type": "code",
   "execution_count": 57,
   "metadata": {},
   "outputs": [],
   "source": [
    "### cross validation\n",
    "from sklearn.cross_validation import cross_val_score, KFold"
   ]
  },
  {
   "cell_type": "code",
   "execution_count": 58,
   "metadata": {},
   "outputs": [],
   "source": [
    "cv = KFold(n=len(haxby_fmri), n_folds=10, shuffle=True, random_state=10)"
   ]
  },
  {
   "cell_type": "markdown",
   "metadata": {},
   "source": [
    "### Train and test split"
   ]
  },
  {
   "cell_type": "code",
   "execution_count": 69,
   "metadata": {},
   "outputs": [],
   "source": [
    "from sklearn.cross_validation import train_test_split\n",
    "X_train, X_test, y_train, y_test = train_test_split(haxby_fmri, haxby_label_1, random_state=30)"
   ]
  },
  {
   "cell_type": "markdown",
   "metadata": {},
   "source": [
    "## Building the classifier"
   ]
  },
  {
   "cell_type": "markdown",
   "metadata": {},
   "source": [
    "## 1. SVC"
   ]
  },
  {
   "cell_type": "code",
   "execution_count": 70,
   "metadata": {},
   "outputs": [],
   "source": [
    "from sklearn.svm import SVC\n",
    "svc_classifier = SVC(kernel='linear')"
   ]
  },
  {
   "cell_type": "code",
   "execution_count": 71,
   "metadata": {},
   "outputs": [
    {
     "name": "stdout",
     "output_type": "stream",
     "text": [
      "0.942177609825\n"
     ]
    }
   ],
   "source": [
    "svc1 = svc_classifier.fit(haxby_fmri, haxby_label_1)\n",
    "cv_score_svc = cross_val_score(svc1, haxby_fmri, haxby_label_1, cv=cv)\n",
    "print (np.mean(cv_score_svc))"
   ]
  },
  {
   "cell_type": "code",
   "execution_count": 72,
   "metadata": {},
   "outputs": [
    {
     "name": "stdout",
     "output_type": "stream",
     "text": [
      "0.914600550964\n"
     ]
    }
   ],
   "source": [
    "svc2 = svc_classifier.fit(X_train, y_train)\n",
    "ts_score_svc = svc2.score(X_test, y_test)\n",
    "print(ts_score_svc)"
   ]
  },
  {
   "cell_type": "markdown",
   "metadata": {},
   "source": [
    "## 2. Naive Bayes"
   ]
  },
  {
   "cell_type": "code",
   "execution_count": 73,
   "metadata": {},
   "outputs": [],
   "source": [
    "# Gaussian Naive Bayes\n",
    "from sklearn.naive_bayes import GaussianNB\n",
    "gnb_classifier = GaussianNB()"
   ]
  },
  {
   "cell_type": "code",
   "execution_count": 74,
   "metadata": {},
   "outputs": [
    {
     "name": "stdout",
     "output_type": "stream",
     "text": [
      "0.594260746339\n"
     ]
    }
   ],
   "source": [
    "gnb1 = gnb_classifier.fit(haxby_fmri, haxby_label_1)\n",
    "cv_score_gnb = cross_val_score(gnb1, haxby_fmri, haxby_label_1, cv=cv)\n",
    "print (np.mean(cv_score_gnb))"
   ]
  },
  {
   "cell_type": "code",
   "execution_count": 75,
   "metadata": {},
   "outputs": [
    {
     "name": "stdout",
     "output_type": "stream",
     "text": [
      "0.556473829201\n"
     ]
    }
   ],
   "source": [
    "gnb2 = gnb_classifier.fit(X_train, y_train)\n",
    "ts_score_gnb = gnb2.score(X_test, y_test)\n",
    "print(ts_score_gnb)"
   ]
  },
  {
   "cell_type": "code",
   "execution_count": 76,
   "metadata": {},
   "outputs": [],
   "source": [
    "# Multinomial Naive Bayes\n",
    "from sklearn.naive_bayes import MultinomialNB\n",
    "mnb_classifier = MultinomialNB()"
   ]
  },
  {
   "cell_type": "code",
   "execution_count": 77,
   "metadata": {},
   "outputs": [
    {
     "name": "stdout",
     "output_type": "stream",
     "text": [
      "0.398682097308\n"
     ]
    }
   ],
   "source": [
    "mnb1 = mnb_classifier.fit(haxby_fmri, haxby_label_1)\n",
    "cv_score_mnb = cross_val_score(mnb1, haxby_fmri, haxby_label_1, cv=cv)\n",
    "print (np.mean(cv_score_mnb))"
   ]
  },
  {
   "cell_type": "code",
   "execution_count": 78,
   "metadata": {},
   "outputs": [
    {
     "name": "stdout",
     "output_type": "stream",
     "text": [
      "0.29476584022\n"
     ]
    }
   ],
   "source": [
    "mnb2 = mnb_classifier.fit(X_train, y_train)\n",
    "ts_score_mnb = mnb2.score(X_test, y_test)\n",
    "print(ts_score_mnb)"
   ]
  },
  {
   "cell_type": "markdown",
   "metadata": {},
   "source": [
    "## 3. KNN"
   ]
  },
  {
   "cell_type": "code",
   "execution_count": 79,
   "metadata": {},
   "outputs": [],
   "source": [
    "# K-nearest neighbors (k=5)\n",
    "from sklearn.neighbors import KNeighborsClassifier\n",
    "knn_classifier = KNeighborsClassifier()"
   ]
  },
  {
   "cell_type": "code",
   "execution_count": 80,
   "metadata": {},
   "outputs": [
    {
     "name": "stdout",
     "output_type": "stream",
     "text": [
      "0.876022673595\n"
     ]
    }
   ],
   "source": [
    "knn1 = knn_classifier.fit(haxby_fmri, haxby_label_1)\n",
    "cv_score_knn = cross_val_score(knn1, haxby_fmri, haxby_label_1, cv=cv)\n",
    "print (np.mean(cv_score_knn))"
   ]
  },
  {
   "cell_type": "code",
   "execution_count": 81,
   "metadata": {},
   "outputs": [
    {
     "name": "stdout",
     "output_type": "stream",
     "text": [
      "0.853994490358\n"
     ]
    }
   ],
   "source": [
    "knn2 = knn_classifier.fit(X_train, y_train)\n",
    "ts_score_knn = knn2.score(X_test, y_test)\n",
    "print(ts_score_knn)"
   ]
  },
  {
   "cell_type": "markdown",
   "metadata": {},
   "source": [
    "## 4. Decision Tree"
   ]
  },
  {
   "cell_type": "code",
   "execution_count": 82,
   "metadata": {},
   "outputs": [],
   "source": [
    "from sklearn.tree import DecisionTreeClassifier\n",
    "dt_classifier = DecisionTreeClassifier()"
   ]
  },
  {
   "cell_type": "code",
   "execution_count": 83,
   "metadata": {},
   "outputs": [
    {
     "name": "stdout",
     "output_type": "stream",
     "text": [
      "0.586046291923\n"
     ]
    }
   ],
   "source": [
    "dt1 = dt_classifier.fit(haxby_fmri, haxby_label_1)\n",
    "cv_score_dt = cross_val_score(dt1, haxby_fmri, haxby_label_1, cv=cv)\n",
    "print (np.mean(cv_score_dt))"
   ]
  },
  {
   "cell_type": "code",
   "execution_count": 84,
   "metadata": {},
   "outputs": [
    {
     "name": "stdout",
     "output_type": "stream",
     "text": [
      "0.548209366391\n"
     ]
    }
   ],
   "source": [
    "dt2 = dt_classifier.fit(X_train, y_train)\n",
    "ts_score_dt = dt2.score(X_test, y_test)\n",
    "print(ts_score_dt)"
   ]
  },
  {
   "cell_type": "markdown",
   "metadata": {},
   "source": [
    "## 5. Esemble Method"
   ]
  },
  {
   "cell_type": "code",
   "execution_count": 85,
   "metadata": {},
   "outputs": [],
   "source": [
    "# Bagging meta-estimator\n",
    "from sklearn.ensemble import BaggingClassifier\n",
    "bag_classifier = BaggingClassifier(knn_classifier)"
   ]
  },
  {
   "cell_type": "code",
   "execution_count": 86,
   "metadata": {},
   "outputs": [
    {
     "name": "stdout",
     "output_type": "stream",
     "text": [
      "0.881521020312\n"
     ]
    }
   ],
   "source": [
    "bag1 = bag_classifier.fit(haxby_fmri, haxby_label_1)\n",
    "cv_score_bag = cross_val_score(bag1, haxby_fmri, haxby_label_1, cv=cv)\n",
    "print (np.mean(cv_score_bag))"
   ]
  },
  {
   "cell_type": "code",
   "execution_count": 87,
   "metadata": {},
   "outputs": [
    {
     "name": "stdout",
     "output_type": "stream",
     "text": [
      "0.840220385675\n"
     ]
    }
   ],
   "source": [
    "bag2 = bag_classifier.fit(X_train, y_train)\n",
    "ts_score_bag = bag2.score(X_test, y_test)\n",
    "print(ts_score_bag)"
   ]
  },
  {
   "cell_type": "markdown",
   "metadata": {},
   "source": [
    "### Plotting"
   ]
  },
  {
   "cell_type": "code",
   "execution_count": null,
   "metadata": {},
   "outputs": [],
   "source": [
    "plt.figure(figsize=(6, 6))\n",
    "plt.boxplot([cv_score_SVC, cv_score_bg, cv_score_dt, cv_score_gnb, cv_score_bag])\n",
    "plt.xticks([1,2,3,4], ['SVC', 'bg', 'dt', 'gnb', ])\n",
    "plt.title('Prediction: cross validation accuracy')"
   ]
  }
 ],
 "metadata": {
  "anaconda-cloud": {},
  "kernelspec": {
   "display_name": "Python [Root]",
   "language": "python",
   "name": "Python [Root]"
  },
  "language_info": {
   "codemirror_mode": {
    "name": "ipython",
    "version": 3
   },
   "file_extension": ".py",
   "mimetype": "text/x-python",
   "name": "python",
   "nbconvert_exporter": "python",
   "pygments_lexer": "ipython3",
   "version": "3.5.2"
  }
 },
 "nbformat": 4,
 "nbformat_minor": 0
}
